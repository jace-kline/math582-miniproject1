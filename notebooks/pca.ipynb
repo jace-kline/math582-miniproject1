{
 "cells": [
  {
   "cell_type": "markdown",
   "id": "4cb7d30a",
   "metadata": {},
   "source": [
    "# Principal Component Analysis\n",
    "\n",
    "### Assumptions\n",
    "* The data matrix X is structured such that rows are attributes and columns are samples"
   ]
  },
  {
   "cell_type": "code",
   "execution_count": 240,
   "id": "e204f1e0",
   "metadata": {},
   "outputs": [],
   "source": [
    "# import libraries\n",
    "import numpy as np\n",
    "import pandas as pd\n",
    "from sklearn.decomposition import PCA"
   ]
  },
  {
   "cell_type": "markdown",
   "id": "711687d8",
   "metadata": {},
   "source": [
    "We will use the following data matrix below throughout the development of the algorithm to demonstrate and test the intermediate functions we define."
   ]
  },
  {
   "cell_type": "code",
   "execution_count": 241,
   "id": "204f5855",
   "metadata": {},
   "outputs": [
    {
     "name": "stdout",
     "output_type": "stream",
     "text": [
      "[[0 2 6 6 2]\n",
      " [9 5 4 6 1]\n",
      " [9 3 5 4 8]]\n",
      "(3, 5)\n"
     ]
    }
   ],
   "source": [
    "# sample data matrix for testing/demonstration\n",
    "\n",
    "A = np.random.randint(10, size=(3,5))\n",
    "\n",
    "print(A)\n",
    "print(A.shape)"
   ]
  },
  {
   "cell_type": "markdown",
   "id": "c3518d8f",
   "metadata": {},
   "source": [
    "## Step 1: Centering the Data Matrix\n",
    "\n",
    "Per the algorithm for PCA in section 10.6 of the book, we must first center the data matrix so that each dimension has a mean of 0. We achieve this by computing the mean of each dimension (row) and then subtracting all elements in each row by the respective row's mean value."
   ]
  },
  {
   "cell_type": "code",
   "execution_count": 242,
   "id": "6f5a17da",
   "metadata": {},
   "outputs": [
    {
     "name": "stdout",
     "output_type": "stream",
     "text": [
      "[[-3.2 -1.2  2.8  2.8 -1.2]\n",
      " [ 4.   0.  -1.   1.  -4. ]\n",
      " [ 3.2 -2.8 -0.8 -1.8  2.2]]\n"
     ]
    }
   ],
   "source": [
    "D, samples = A.shape\n",
    "rowmeans = np.mean(A, axis=1)\n",
    "offsetmatrix = np.repeat(rowmeans, samples, axis=0).reshape((D,samples))\n",
    "centered = A - offsetmatrix\n",
    "\n",
    "print(centered)"
   ]
  },
  {
   "cell_type": "markdown",
   "id": "d56309d0",
   "metadata": {},
   "source": [
    "## Step 2: Standardization\n",
    "\n",
    "The next step in the PCA algorithm involves standardizing each component of the data matrix by dividing by the component's respective standard deviation. We show this behavior below."
   ]
  },
  {
   "cell_type": "code",
   "execution_count": 243,
   "id": "9bc10953",
   "metadata": {},
   "outputs": [
    {
     "name": "stdout",
     "output_type": "stream",
     "text": [
      "[[-1.33333333 -0.5         1.16666667  1.16666667 -0.5       ]\n",
      " [ 1.53392998  0.         -0.38348249  0.38348249 -1.53392998]\n",
      " [ 1.38218948 -1.2094158  -0.34554737 -0.77748158  0.95025527]]\n"
     ]
    }
   ],
   "source": [
    "rowstds = np.std(centered, axis=1)\n",
    "standardized = (centered.T / rowstds).T\n",
    "\n",
    "print(standardized)"
   ]
  },
  {
   "cell_type": "markdown",
   "id": "b247bd37",
   "metadata": {},
   "source": [
    "## Step 3: Eigendecomposition of the Covariance Matrix\n",
    "\n",
    "We must first find the covariance matrix of the centered and standardized data array. We then use this covariance matrix to compute the eigendecomposition."
   ]
  },
  {
   "cell_type": "code",
   "execution_count": 244,
   "id": "19283e58",
   "metadata": {},
   "outputs": [
    {
     "name": "stdout",
     "output_type": "stream",
     "text": [
      "[[ 1.25       -0.31956875 -0.75588487]\n",
      " [-0.31956875  1.25        0.12422941]\n",
      " [-0.75588487  0.12422941  1.25      ]]\n"
     ]
    }
   ],
   "source": [
    "covmatrix = np.cov(standardized)\n",
    "print(covmatrix)"
   ]
  },
  {
   "cell_type": "code",
   "execution_count": 258,
   "id": "c5576093",
   "metadata": {},
   "outputs": [
    {
     "name": "stdout",
     "output_type": "stream",
     "text": [
      "[2.12055179 1.16188943 0.46755879]\n",
      "[[-0.6844767  -0.10734127  0.7210891 ]\n",
      " [ 0.34305938 -0.92017176  0.18866426]\n",
      " [ 0.64327436  0.37651267  0.66666056]]\n"
     ]
    }
   ],
   "source": [
    "# Compute the eigenvalues and unit-length eigenvectors of the standardized covariance matrix\n",
    "# The eigenvalues and vectors are ordered in ascending order\n",
    "\n",
    "res = np.linalg.eigh(covmatrix)\n",
    "\n",
    "# flip the order so the eigenvalues and vectors are sorted in descending order based on eigenvalue\n",
    "eigvals = np.flip(res[0])\n",
    "eigvecs = np.flip(res[1], axis=1)\n",
    "\n",
    "print(eigvals)\n",
    "print(eigvecs)"
   ]
  },
  {
   "cell_type": "code",
   "execution_count": 259,
   "id": "9645dccd",
   "metadata": {},
   "outputs": [
    {
     "name": "stdout",
     "output_type": "stream",
     "text": [
      "[[-0.6844767  -0.10734127]\n",
      " [ 0.34305938 -0.92017176]\n",
      " [ 0.64327436  0.37651267]]\n"
     ]
    }
   ],
   "source": [
    "DESIRED_COMPONENTS = 2\n",
    "\n",
    "B = eigvecs[:, 0:DESIRED_DIMENSIONS]\n",
    "print(B)"
   ]
  },
  {
   "cell_type": "code",
   "execution_count": 247,
   "id": "957d0c72",
   "metadata": {},
   "outputs": [
    {
     "name": "stdout",
     "output_type": "stream",
     "text": [
      "[[ 1.25       -0.31956875 -0.75588487]\n",
      " [-0.31956875  1.25        0.12422941]\n",
      " [-0.75588487  0.12422941  1.25      ]]\n"
     ]
    }
   ],
   "source": [
    "pca = PCA(n_components=DESIRED_COMPONENTS, svd_solver='full')\n",
    "pca.fit(standardized.T)\n",
    "print(pca.get_covariance())"
   ]
  },
  {
   "cell_type": "code",
   "execution_count": 262,
   "id": "d9b1aeed",
   "metadata": {},
   "outputs": [
    {
     "data": {
      "text/plain": [
       "array([[ 0.30185704, -0.65100036]])"
      ]
     },
     "execution_count": 262,
     "metadata": {},
     "output_type": "execute_result"
    }
   ],
   "source": [
    "x = np.array([1,1,1])\n",
    "pca.transform(x.reshape(1,-1))"
   ]
  },
  {
   "cell_type": "code",
   "execution_count": 260,
   "id": "f49a9bac",
   "metadata": {},
   "outputs": [
    {
     "data": {
      "text/plain": [
       "array([ 0.30185704, -0.65100036])"
      ]
     },
     "execution_count": 260,
     "metadata": {},
     "output_type": "execute_result"
    }
   ],
   "source": [
    "B.T @ x"
   ]
  },
  {
   "cell_type": "code",
   "execution_count": 261,
   "id": "36c47d85",
   "metadata": {},
   "outputs": [
    {
     "data": {
      "text/plain": [
       "array([-0.1367349 ,  0.70258703, -0.05093299])"
      ]
     },
     "execution_count": 261,
     "metadata": {},
     "output_type": "execute_result"
    }
   ],
   "source": [
    "B @ (B.T @ x)"
   ]
  },
  {
   "cell_type": "code",
   "execution_count": null,
   "id": "2d2fedb7",
   "metadata": {},
   "outputs": [],
   "source": []
  }
 ],
 "metadata": {
  "kernelspec": {
   "display_name": "Python 3 (ipykernel)",
   "language": "python",
   "name": "python3"
  },
  "language_info": {
   "codemirror_mode": {
    "name": "ipython",
    "version": 3
   },
   "file_extension": ".py",
   "mimetype": "text/x-python",
   "name": "python",
   "nbconvert_exporter": "python",
   "pygments_lexer": "ipython3",
   "version": "3.7.11"
  }
 },
 "nbformat": 4,
 "nbformat_minor": 5
}
